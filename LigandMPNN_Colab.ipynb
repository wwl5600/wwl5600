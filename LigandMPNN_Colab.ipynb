{
  "cells": [
    {
      "cell_type": "markdown",
      "metadata": {
        "id": "view-in-github",
        "colab_type": "text"
      },
      "source": [
        "<a href=\"https://colab.research.google.com/github/wwl5600/wwl5600/blob/main/LigandMPNN_Colab.ipynb\" target=\"_parent\"><img src=\"https://colab.research.google.com/assets/colab-badge.svg\" alt=\"Open In Colab\"/></a>"
      ]
    },
    {
      "cell_type": "markdown",
      "metadata": {
        "id": "oSllcklh2aJs"
      },
      "source": [
        "# **LigandMPNN - Colab**\n",
        "\n",
        "Atomic context-conditioned protein sequence design using LigandMPNN - [Paper](https://www.biorxiv.org/content/10.1101/2023.12.22.573103v1)\n",
        "\n",
        "This Colab notebook provides inference code for [LigandMPNN](https://github.com/dauparas/LigandMPNN) & [ProteinMPNN](https://github.com/dauparas/ProteinMPNN) models. The code and model parameters are available under the MIT license.\n",
        "\n",
        "This Colab Notebook covers all 33-examples of the original LigandMPNN discussed by Justus Dauparas at - [**Examples**](https://github.com/dauparas/LigandMPNN#:~:text=0.20A%20Gaussian%20noise-,Examples,-1%20default)\n",
        "\n",
        "\n",
        "\n",
        "# **1. How to run the Examples from github LigandMPNN repo**\n",
        "```\n",
        "You can run all 33-examples, using the original inputs PDBs after getting LigandMPNN models and dependecies installed. The input PDBs files will be downloaded after installation.\n",
        "\n",
        "*   Head to any cell and simply run using play button  \n",
        "*   Check/remember the file name from the --out_folder in the cell section\n",
        "*   Now from the left side of this notebook, browse to LigandMPNN folder---> ouputs folder, check the file name, right click and download it.\n",
        "*   You can set name to anything that you like at --out_folder \"./outputs/default\" option. But It is recommended and let the input and outputs remain original.\n",
        "```\n",
        "\n",
        "#**2. How to Run LigandMPNN using your PDB files  as input**\n",
        "\n",
        "First run the **Get LigandMPNN models and install depencies -step**\n",
        "\n",
        "I assume you have a pdb file 7KR0\n",
        "\n",
        "1.   Now Upload **7KR0.pdb** to the inputs folder of this notebook\n",
        "2.   Fom the left side of this notebook, browse to LigandMPNN folder ---> inputs folder, then upload and click refresh to check its in there.\n",
        "\n",
        "Now forexample I want to run **Example 1 default**\n",
        "3.   So in the cell, --pdb_path \"./inputs/**1BC8.pdb**\", replace the 1BC8.pdb with **7KR0.pdb** that you uploaded\n",
        "4.   Also in the --out_folder \"./outputs/**default**\", replace the default folder name to anything that you like \"./outputs/**results**\"\n",
        "5.   Now run the cell using the play button\n",
        "6.   Download your file/folder from leftside of this notebook, browse to LigandMPNN folder---> then outputs folder and check the name **results** and download.\n",
        "\n",
        "#**Here's a simple** [Tutorial](https://youtu.be/LFsxLVqPQho?feature=shared) and also available on my profile [X](https://x.com/CryoKhan/status/1750595099464233416?s=20)\n",
        "\n",
        "# **Important!**\n",
        "**It is very important to set the python script according to your needs in any of the example that you're interested.**\n",
        "\n",
        "To get most out of the script, first run/check the last cell outputs description. There are so many options from changing models to fix residues to chains to design.\n",
        "\n",
        "**This is the script where you can change anything according to your needs**\n",
        "\n",
        "!python run.py\n",
        "\n",
        "\n",
        "**Forexample;**\n",
        "From the outputs of the last cell, which shows the script usage options, you can add as many options as you need. One can change the model by simply adding the option like;\n",
        "\n",
        "!python run.py \\\n",
        "        **--model_type \"ligand_mpnn\"** \\\n",
        "\n",
        "There are so many option, please check the last cell script usage options.\n",
        "\n",
        "\n",
        "#**What works!**\n",
        "- All the original [**Examples**](https://github.com/dauparas/LigandMPNN#:~:text=0.20A%20Gaussian%20noise-,Examples,-1%20default) from github LigandMPNN repo.\n",
        "- Works on any PDB file, upload it and set the python script according to your need.\n",
        "\n",
        "This Colab is just for demonstration purpose I recommend using the original installations of LigandMPNN.\n",
        "\n",
        "If anyone interested to improve, download, change etc please go ahead and this is all yours.\n",
        "\n",
        "Connect with me: [LinkedIn](https://www.linkedin.com/in/samee-ullah-structural-biologist/)"
      ]
    },
    {
      "cell_type": "markdown",
      "metadata": {
        "id": "Ek-gOtMNvJxW"
      },
      "source": [
        "**Get LigandMPNN models and install dependencies, wait for 2-5 minutes to finish**\n",
        "\n",
        "Please don't worry about the warnings"
      ]
    },
    {
      "cell_type": "code",
      "execution_count": null,
      "metadata": {
        "id": "iu8gaVdklK8L"
      },
      "outputs": [],
      "source": [
        "!git clone https://github.com/ullahsamee/LigandMPNN.git\n",
        "%cd LigandMPNN\n",
        "!bash get_model_params.sh \"./model_params\"\n",
        "\n",
        "# Install Miniconda\n",
        "!wget https://repo.anaconda.com/miniconda/Miniconda3-py311_23.11.0-2-Linux-x86_64.sh\n",
        "!chmod +x Miniconda3-py311_23.11.0-2-Linux-x86_64.sh\n",
        "!bash ./Miniconda3-py311_23.11.0-2-Linux-x86_64.sh -b -f -p /usr/local\n",
        "\n",
        "# Update PATH\n",
        "import sys\n",
        "sys.path.append('/usr/local/lib/python3.11/site-packages/')\n",
        "\n",
        "# Install packages\n",
        "!conda create -n ligandmpnn_env python=3.11 -y\n",
        "!source activate ligandmpnn_env\n",
        "!conda activate ligandmpnn_env\n",
        "!pip install torch\n",
        "!pip install prody==2.4.1\n",
        "!pip install pyparsing==3.1.1"
      ]
    },
    {
      "cell_type": "markdown",
      "metadata": {
        "id": "c5HUPoKwuTGs"
      },
      "source": [
        "**Examples:**\n",
        "\n",
        "**1 default**\n",
        "\n",
        "Default settings will run ProteinMPNN."
      ]
    },
    {
      "cell_type": "code",
      "execution_count": null,
      "metadata": {
        "id": "1-EEWNfcuRP0"
      },
      "outputs": [],
      "source": [
        "%cd /content/LigandMPNN\n",
        "!python run.py \\\n",
        "        --seed 111 \\\n",
        "        --pdb_path \"./inputs/1BC8.pdb\" \\\n",
        "        --out_folder \"./outputs/default\""
      ]
    },
    {
      "cell_type": "markdown",
      "metadata": {
        "id": "3GKPC86D3qAy"
      },
      "source": [
        "**2 --temperature**\n",
        "\n",
        "--temperature 0.05 Change sampling temperature (higher temperature gives more sequence diversity).\n"
      ]
    },
    {
      "cell_type": "code",
      "execution_count": null,
      "metadata": {
        "id": "3seNXzfM3lMW"
      },
      "outputs": [],
      "source": [
        "!python run.py \\\n",
        "        --seed 111 \\\n",
        "        --pdb_path \"./inputs/1BC8.pdb\" \\\n",
        "        --temperature 0.05 \\\n",
        "        --out_folder \"./outputs/temperature\""
      ]
    },
    {
      "cell_type": "markdown",
      "metadata": {
        "id": "k8kokLBS4Fgm"
      },
      "source": [
        "**3 --seed**\n",
        "\n",
        "--seed Not selecting a seed will run with a random seed. Running this multiple times will give different results."
      ]
    },
    {
      "cell_type": "code",
      "execution_count": null,
      "metadata": {
        "colab": {
          "background_save": true
        },
        "id": "Po8Whi9z4B-7"
      },
      "outputs": [],
      "source": [
        "!python run.py \\\n",
        "        --pdb_path \"./inputs/1BC8.pdb\" \\\n",
        "        --out_folder \"./outputs/random_seed\""
      ]
    },
    {
      "cell_type": "markdown",
      "metadata": {
        "id": "OQ7bYo-G4QlV"
      },
      "source": [
        "**4 --verbose**\n",
        "\n",
        "--verbose 0 Do not print any statements.\n",
        "\n"
      ]
    },
    {
      "cell_type": "code",
      "execution_count": null,
      "metadata": {
        "colab": {
          "background_save": true
        },
        "id": "2ERfsbj04MmT"
      },
      "outputs": [],
      "source": [
        "!python run.py \\\n",
        "        --seed 111 \\\n",
        "        --verbose 0 \\\n",
        "        --pdb_path \"./inputs/1BC8.pdb\" \\\n",
        "        --out_folder \"./outputs/verbose\""
      ]
    },
    {
      "cell_type": "markdown",
      "metadata": {
        "id": "5fjaYwcd4g7v"
      },
      "source": [
        "**5 --save_stats**\n",
        "\n",
        "--save_stats 1 Save sequence design statistics."
      ]
    },
    {
      "cell_type": "code",
      "execution_count": null,
      "metadata": {
        "colab": {
          "background_save": true
        },
        "id": "8qMd2-zL4cFG"
      },
      "outputs": [],
      "source": [
        "#['generated_sequences', 'sampling_probs', 'log_probs', 'decoding_order', 'native_sequence', 'mask', 'chain_mask', 'seed', 'temperature']\n",
        "!python run.py \\\n",
        "        --seed 111 \\\n",
        "        --pdb_path \"./inputs/1BC8.pdb\" \\\n",
        "        --out_folder \"./outputs/save_stats\" \\\n",
        "        --save_stats 1"
      ]
    },
    {
      "cell_type": "markdown",
      "metadata": {
        "id": "93DMih3s4ryk"
      },
      "source": [
        "**6 --fixed_residues**\n",
        "\n",
        "--fixed_residues Fixing specific amino acids. This example fixes the first 10 residues in chain C and adds global bias towards A (alanine). The output should have all alanines except the first 10 residues should be the same as in the input sequence since those are fixed."
      ]
    },
    {
      "cell_type": "code",
      "execution_count": null,
      "metadata": {
        "colab": {
          "background_save": true
        },
        "id": "sbTyXueW4phF"
      },
      "outputs": [],
      "source": [
        "!python run.py \\\n",
        "        --seed 111 \\\n",
        "        --pdb_path \"./inputs/1BC8.pdb\" \\\n",
        "        --out_folder \"./outputs/fix_residues\" \\\n",
        "        --fixed_residues \"C1 C2 C3 C4 C5 C6 C7 C8 C9 C10\" \\\n",
        "        --bias_AA \"E:10.0\""
      ]
    },
    {
      "cell_type": "markdown",
      "metadata": {
        "id": "uIdY278A41f_"
      },
      "source": [
        "**7 --redesigned_residues**\n",
        "\n",
        "--redesigned_residues Specifying which residues need to be designed. This example redesigns the first 10 residues while fixing everything else.\n",
        "\n"
      ]
    },
    {
      "cell_type": "code",
      "execution_count": null,
      "metadata": {
        "colab": {
          "background_save": true
        },
        "id": "s_8BRvbI4yIv"
      },
      "outputs": [],
      "source": [
        "!python run.py \\\n",
        "        --seed 111 \\\n",
        "        --pdb_path \"./inputs/1BC8.pdb\" \\\n",
        "        --out_folder \"./outputs/redesign_residues\" \\\n",
        "        --redesigned_residues \"C1 C2 C3 C4 C5 C6 C7 C8 C9 C10\" \\\n",
        "        --bias_AA \"A:10.0\""
      ]
    },
    {
      "cell_type": "markdown",
      "metadata": {
        "id": "rSq-BCMr5OuI"
      },
      "source": [
        "**8 --number_of_batches**\n",
        "\n",
        "Design 15 sequences; with batch size 3 (can be 1 when using CPUs) and the number of batches 5."
      ]
    },
    {
      "cell_type": "code",
      "execution_count": null,
      "metadata": {
        "colab": {
          "background_save": true
        },
        "id": "627Fe8X65HBX"
      },
      "outputs": [],
      "source": [
        "!python run.py \\\n",
        "        --seed 111 \\\n",
        "        --pdb_path \"./inputs/1BC8.pdb\" \\\n",
        "        --out_folder \"./outputs/batch_size\" \\\n",
        "        --batch_size 3 \\\n",
        "        --number_of_batches 5"
      ]
    },
    {
      "cell_type": "markdown",
      "metadata": {
        "id": "HqwYIXk35XJu"
      },
      "source": [
        "**9 --bias_AA**\n",
        "\n",
        "Global amino acid bias. In this example, output sequences are biased towards W, P, C and away from A."
      ]
    },
    {
      "cell_type": "code",
      "execution_count": null,
      "metadata": {
        "colab": {
          "background_save": true
        },
        "id": "yUJKUsag5HnI"
      },
      "outputs": [],
      "source": [
        "!python run.py \\\n",
        "        --seed 111 \\\n",
        "        --pdb_path \"./inputs/1BC8.pdb\" \\\n",
        "        --bias_AA \"W:3.0,P:3.0,C:3.0,A:-3.0\" \\\n",
        "        --out_folder \"./outputs/global_bias\""
      ]
    },
    {
      "cell_type": "markdown",
      "metadata": {
        "id": "kZQbPGb95or2"
      },
      "source": [
        "**10 --bias_AA_per_residue**\n",
        "\n",
        "Specify per residue amino acid bias, e.g. make residues C1, C3, C5, and C7 to be prolines."
      ]
    },
    {
      "cell_type": "code",
      "execution_count": null,
      "metadata": {
        "colab": {
          "background_save": true
        },
        "id": "77jKxOgl5Hz-"
      },
      "outputs": [],
      "source": [
        "# {\n",
        "# \"C1\": {\"G\": -0.3, \"C\": -2.0, \"P\": 10.8},\n",
        "# \"C3\": {\"P\": 10.0},\n",
        "# \"C5\": {\"G\": -1.3, \"P\": 10.0},\n",
        "# \"C7\": {\"G\": -1.3, \"P\": 10.0}\n",
        "# }\n",
        "!python run.py \\\n",
        "        --seed 111 \\\n",
        "        --pdb_path \"./inputs/1BC8.pdb\" \\\n",
        "        --bias_AA_per_residue \"./inputs/bias_AA_per_residue.json\" \\\n",
        "        --out_folder \"./outputs/per_residue_bias\""
      ]
    },
    {
      "cell_type": "markdown",
      "metadata": {
        "id": "FkPCyQ_V6Aih"
      },
      "source": [
        "**11 --omit_AA**\n",
        "\n",
        "Global amino acid restrictions. This is equivalent to using --bias_AA and setting bias to be a large negative number. The output should be just made of E, K, A.\n",
        "\n"
      ]
    },
    {
      "cell_type": "code",
      "execution_count": null,
      "metadata": {
        "colab": {
          "background_save": true
        },
        "id": "aGwonRd15IBn"
      },
      "outputs": [],
      "source": [
        "!python run.py \\\n",
        "        --seed 111 \\\n",
        "        --pdb_path \"./inputs/1BC8.pdb\" \\\n",
        "        --omit_AA \"CDFGHILMNPQRSTVWY\" \\\n",
        "        --out_folder \"./outputs/global_omit\""
      ]
    },
    {
      "cell_type": "markdown",
      "metadata": {
        "id": "grRpBn5k6Mnt"
      },
      "source": [
        "**12 --omit_AA_per_residue**\n",
        "\n",
        "Per residue amino acid restrictions."
      ]
    },
    {
      "cell_type": "code",
      "execution_count": null,
      "metadata": {
        "colab": {
          "background_save": true
        },
        "id": "-_Qw8CdD5IGl"
      },
      "outputs": [],
      "source": [
        "# {\n",
        "# \"C1\": \"ACDEFGHIKLMNPQRSTVW\",\n",
        "# \"C3\": \"ACDEFGHIKLMNPQRSTVW\",\n",
        "# \"C5\": \"ACDEFGHIKLMNPQRSTVW\",\n",
        "# \"C7\": \"ACDEFGHIKLMNPQRSTVW\"\n",
        "# }\n",
        "!python run.py \\\n",
        "        --seed 111 \\\n",
        "        --pdb_path \"./inputs/1BC8.pdb\" \\\n",
        "        --omit_AA_per_residue \"./inputs/omit_AA_per_residue.json\" \\\n",
        "        --out_folder \"./outputs/per_residue_omit\""
      ]
    },
    {
      "cell_type": "markdown",
      "metadata": {
        "id": "NQvv5Djp6gTJ"
      },
      "source": [
        "**13 --symmetry_weights**\n",
        "\n",
        "Designing sequences with symmetry, e.g. homooligomer/2-state proteins, etc. In this example make C1=C2=C3, also C4=C5, and C6=C7."
      ]
    },
    {
      "cell_type": "code",
      "execution_count": null,
      "metadata": {
        "colab": {
          "background_save": true
        },
        "id": "MIuSX3qT5IM4"
      },
      "outputs": [],
      "source": [
        "#total_logits += symmetry_weights[t]*logits\n",
        "#probs = torch.nn.functional.softmax((total_logits+bias_t) / temperature, dim=-1)\n",
        "#total_logits_123 = 0.33*logits_1+0.33*logits_2+0.33*logits_3\n",
        "#output should be ***ooxx\n",
        "!python run.py \\\n",
        "        --seed 111 \\\n",
        "        --pdb_path \"./inputs/1BC8.pdb\" \\\n",
        "        --out_folder \"./outputs/symmetry\" \\\n",
        "        --symmetry_residues \"C1,C2,C3|C4,C5|C6,C7\" \\\n",
        "        --symmetry_weights \"0.33,0.33,0.33|0.5,0.5|0.5,0.5\""
      ]
    },
    {
      "cell_type": "markdown",
      "metadata": {
        "id": "wuI0k4DOA-0o"
      },
      "source": [
        "**14 --homo_oligomer**\n",
        "\n",
        "Design homooligomer sequences. This automatically sets --symmetry_residues and --symmetry_weights assuming equal weighting from all chains."
      ]
    },
    {
      "cell_type": "code",
      "execution_count": null,
      "metadata": {
        "colab": {
          "background_save": true
        },
        "id": "sSavGr_d5IWL"
      },
      "outputs": [],
      "source": [
        "!python run.py \\\n",
        "        --model_type \"ligand_mpnn\" \\\n",
        "        --seed 111 \\\n",
        "        --pdb_path \"./inputs/4GYT.pdb\" \\\n",
        "        --out_folder \"./outputs/homooligomer\" \\\n",
        "        --homo_oligomer 1 \\\n",
        "        --number_of_batches 2"
      ]
    },
    {
      "cell_type": "markdown",
      "metadata": {
        "id": "LBm4keaSBHDE"
      },
      "source": [
        "**15 --file_ending**\n",
        "\n",
        "Outputs will have a specified ending; e.g. 1BC8_xyz.fa instead of 1BC8.fa"
      ]
    },
    {
      "cell_type": "code",
      "execution_count": null,
      "metadata": {
        "colab": {
          "background_save": true
        },
        "id": "REHQAhH26lhJ"
      },
      "outputs": [],
      "source": [
        "!python run.py \\\n",
        "        --seed 111 \\\n",
        "        --pdb_path \"./inputs/1BC8.pdb\" \\\n",
        "        --out_folder \"./outputs/file_ending\" \\\n",
        "        --file_ending \"_xyz\""
      ]
    },
    {
      "cell_type": "markdown",
      "metadata": {
        "id": "9DGZxphbBWEY"
      },
      "source": [
        "**16 --zero_indexed**\n",
        "\n",
        "Zero indexed names in /backbones/1BC8_0.pdb, 1BC8_1.pdb, 1BC8_2.pdb etc"
      ]
    },
    {
      "cell_type": "code",
      "execution_count": null,
      "metadata": {
        "colab": {
          "background_save": true
        },
        "id": "yOkwbeQy6l3L"
      },
      "outputs": [],
      "source": [
        "!python run.py \\\n",
        "        --seed 111 \\\n",
        "        --pdb_path \"./inputs/1BC8.pdb\" \\\n",
        "        --out_folder \"./outputs/zero_indexed\" \\\n",
        "        --zero_indexed 1 \\\n",
        "        --number_of_batches 2"
      ]
    },
    {
      "cell_type": "markdown",
      "metadata": {
        "id": "UeL7s6eABj1t"
      },
      "source": [
        "**17 --chains_to_design**\n",
        "\n",
        "Specify which chains (e.g. \"ABC\") need to be redesigned, other chains will be kept fixed. Outputs in seqs/backbones will still have atoms/sequences for the whole input PDB."
      ]
    },
    {
      "cell_type": "code",
      "execution_count": null,
      "metadata": {
        "colab": {
          "background_save": true
        },
        "id": "IN2RBRrZ6l5x"
      },
      "outputs": [],
      "source": [
        "!python run.py \\\n",
        "        --model_type \"ligand_mpnn\" \\\n",
        "        --seed 111 \\\n",
        "        --pdb_path \"./inputs/4GYT.pdb\" \\\n",
        "        --out_folder \"./outputs/chains_to_design\" \\\n",
        "        --chains_to_design \"B\""
      ]
    },
    {
      "cell_type": "markdown",
      "metadata": {
        "id": "j6P1rQZTBopw"
      },
      "source": [
        "**18 --parse_these_chains_only**\n",
        "\n",
        "Parse and design only specified chains (e.g. \"ABC\"). Outputs will have only specified chains."
      ]
    },
    {
      "cell_type": "code",
      "execution_count": null,
      "metadata": {
        "colab": {
          "background_save": true
        },
        "id": "smTzjsUb6mIp"
      },
      "outputs": [],
      "source": [
        "!python run.py \\\n",
        "        --model_type \"ligand_mpnn\" \\\n",
        "        --seed 111 \\\n",
        "        --pdb_path \"./inputs/4GYT.pdb\" \\\n",
        "        --out_folder \"./outputs/parse_these_chains_only\" \\\n",
        "        --parse_these_chains_only \"B\""
      ]
    },
    {
      "cell_type": "markdown",
      "metadata": {
        "id": "UEEGqiWIB1HC"
      },
      "source": [
        "**19 --model_type \"ligand_mpnn\"**\n",
        "\n",
        "Run LigandMPNN with default settings."
      ]
    },
    {
      "cell_type": "code",
      "execution_count": null,
      "metadata": {
        "colab": {
          "background_save": true
        },
        "id": "JXSK0TGd6mLa"
      },
      "outputs": [],
      "source": [
        "!python run.py \\\n",
        "        --model_type \"ligand_mpnn\" \\\n",
        "        --seed 111 \\\n",
        "        --pdb_path \"./inputs/V5cp3.pdb\" \\\n",
        "        --redesigned_residues \"A94 A95 A96 A97 A98 A99 A100 A101 A102 H97 H98 H99 H100 H101 H102\" \\\n",
        "        --out_folder \"./outputs/ligandmpnn_default\""
      ]
    },
    {
      "cell_type": "markdown",
      "metadata": {
        "id": "wfGruNh6CAfa"
      },
      "source": [
        "**20 --checkpoint_ligand_mpnn**\n",
        "\n",
        "Run LigandMPNN using 0.05A model by specifying --checkpoint_ligand_mpnn flag."
      ]
    },
    {
      "cell_type": "code",
      "execution_count": null,
      "metadata": {
        "colab": {
          "background_save": true
        },
        "id": "Xngm3rno6mOR"
      },
      "outputs": [],
      "source": [
        "!python run.py \\\n",
        "        --checkpoint_ligand_mpnn \"./model_params/ligandmpnn_v_32_005_25.pt\" \\\n",
        "        --model_type \"ligand_mpnn\" \\\n",
        "        --seed 111 \\\n",
        "        --pdb_path \"./inputs/1BC8.pdb\" \\\n",
        "        --out_folder \"./outputs/ligandmpnn_v_32_005_25\""
      ]
    },
    {
      "cell_type": "markdown",
      "metadata": {
        "id": "hV7apUZDCIva"
      },
      "source": [
        "**21 --ligand_mpnn_use_atom_context**\n",
        "\n",
        "Setting --ligand_mpnn_use_atom_context 0 will mask all ligand atoms. This can be used to assess how much ligand atoms affect AA probabilities."
      ]
    },
    {
      "cell_type": "code",
      "execution_count": null,
      "metadata": {
        "colab": {
          "background_save": true
        },
        "id": "FUxiMEwG6mRS"
      },
      "outputs": [],
      "source": [
        "!python run.py \\\n",
        "        --model_type \"ligand_mpnn\" \\\n",
        "        --seed 111 \\\n",
        "        --pdb_path \"./inputs/1BC8.pdb\" \\\n",
        "        --out_folder \"./outputs/ligandmpnn_no_context\" \\\n",
        "        --ligand_mpnn_use_atom_context 0"
      ]
    },
    {
      "cell_type": "markdown",
      "metadata": {
        "id": "mV2d_Nh2CVrb"
      },
      "source": [
        "**22 --ligand_mpnn_use_side_chain_context**\n",
        "\n",
        "Use fixed residue side chain atoms as extra ligand atoms.\n",
        "\n"
      ]
    },
    {
      "cell_type": "code",
      "execution_count": null,
      "metadata": {
        "colab": {
          "background_save": true
        },
        "id": "PXhd837D6mUJ"
      },
      "outputs": [],
      "source": [
        "!python run.py \\\n",
        "        --model_type \"ligand_mpnn\" \\\n",
        "        --seed 111 \\\n",
        "        --pdb_path \"./inputs/1BC8.pdb\" \\\n",
        "        --out_folder \"./outputs/ligandmpnn_use_side_chain_atoms\" \\\n",
        "        --ligand_mpnn_use_side_chain_context 1 \\\n",
        "        --fixed_residues \"C1 C2 C3 C4 C5 C6 C7 C8 C9 C10\""
      ]
    },
    {
      "cell_type": "markdown",
      "metadata": {
        "id": "SgPvzJaPCcxG"
      },
      "source": [
        "**23 --model_type \"soluble_mpnn\"**\n",
        "\n",
        "Run SolubleMPNN (ProteinMPNN-like model with only soluble proteins in the training dataset)."
      ]
    },
    {
      "cell_type": "code",
      "execution_count": null,
      "metadata": {
        "colab": {
          "background_save": true
        },
        "id": "kYa0kCuc6mW6"
      },
      "outputs": [],
      "source": [
        "!python run.py \\\n",
        "        --model_type \"soluble_mpnn\" \\\n",
        "        --seed 111 \\\n",
        "        --pdb_path \"./inputs/1BC8.pdb\" \\\n",
        "        --out_folder \"./outputs/soluble_mpnn_default\""
      ]
    },
    {
      "cell_type": "markdown",
      "metadata": {
        "id": "26qrjJQ-Cjj-"
      },
      "source": [
        "**24 --model_type \"global_label_membrane_mpnn\"**\n",
        "\n",
        "Run global label membrane MPNN (trained with extra input - binary label soluble vs not) --global_transmembrane_label #1 - membrane, 0 - soluble."
      ]
    },
    {
      "cell_type": "code",
      "execution_count": null,
      "metadata": {
        "colab": {
          "background_save": true
        },
        "id": "DjK3at9Q6mZp"
      },
      "outputs": [],
      "source": [
        "!python run.py \\\n",
        "        --model_type \"global_label_membrane_mpnn\" \\\n",
        "        --seed 111 \\\n",
        "        --pdb_path \"./inputs/1BC8.pdb\" \\\n",
        "        --out_folder \"./outputs/global_label_membrane_mpnn_0\" \\\n",
        "        --global_transmembrane_label 0"
      ]
    },
    {
      "cell_type": "markdown",
      "metadata": {
        "id": "Q8eubXN2CrlL"
      },
      "source": [
        "**25 --model_type \"per_residue_label_membrane_mpnn\"**\n",
        "\n",
        "Run per residue label membrane MPNN (trained with extra input per residue specifying buried (hydrophobic), interface (polar), or other type residues; 3 classes)."
      ]
    },
    {
      "cell_type": "code",
      "execution_count": null,
      "metadata": {
        "colab": {
          "background_save": true
        },
        "id": "ubijN8O36mcY"
      },
      "outputs": [],
      "source": [
        "!python run.py \\\n",
        "        --model_type \"per_residue_label_membrane_mpnn\" \\\n",
        "        --seed 111 \\\n",
        "        --pdb_path \"./inputs/1BC8.pdb\" \\\n",
        "        --out_folder \"./outputs/per_residue_label_membrane_mpnn_default\" \\\n",
        "        --transmembrane_buried \"C1 C2 C3 C11\" \\\n",
        "        --transmembrane_interface \"C4 C5 C6 C22\""
      ]
    },
    {
      "cell_type": "markdown",
      "metadata": {
        "id": "IfMb8VZlC0LM"
      },
      "source": [
        "**26 --fasta_seq_separation**\n",
        "\n",
        "Choose a symbol to put between different chains in fasta output format. It's recommended to PDB output format to deal with residue jumps and multiple chain parsing."
      ]
    },
    {
      "cell_type": "code",
      "execution_count": null,
      "metadata": {
        "colab": {
          "background_save": true
        },
        "id": "uL-ZTG0a6mfB"
      },
      "outputs": [],
      "source": [
        "!python run.py \\\n",
        "        --pdb_path \"./inputs/1BC8.pdb\" \\\n",
        "        --out_folder \"./outputs/fasta_seq_separation\" \\\n",
        "        --fasta_seq_separation \":\""
      ]
    },
    {
      "cell_type": "markdown",
      "metadata": {
        "id": "A6FFlINeC7m7"
      },
      "source": [
        "**27 --pdb_path_multi**\n",
        "\n",
        "Specify multiple PDB input paths. This is more efficient since the model needs to be loaded from the checkpoint once."
      ]
    },
    {
      "cell_type": "code",
      "execution_count": null,
      "metadata": {
        "colab": {
          "background_save": true
        },
        "id": "yJi0ex9V6mh5"
      },
      "outputs": [],
      "source": [
        "#{\n",
        "#\"./inputs/1BC8.pdb\": \"\",\n",
        "#\"./inputs/4GYT.pdb\": \"\"\n",
        "#}\n",
        "!python run.py \\\n",
        "        --pdb_path_multi \"./inputs/pdb_ids.json\" \\\n",
        "        --out_folder \"./outputs/pdb_path_multi\" \\\n",
        "        --seed 111"
      ]
    },
    {
      "cell_type": "markdown",
      "metadata": {
        "id": "GH78OZSADEm_"
      },
      "source": [
        "**28 --fixed_residues_multi**\n",
        "\n",
        "Specify fixed residues when using --pdb_path_multi flag."
      ]
    },
    {
      "cell_type": "code",
      "execution_count": null,
      "metadata": {
        "colab": {
          "background_save": true
        },
        "id": "h66XKmHm6mkx"
      },
      "outputs": [],
      "source": [
        "#{\n",
        "#\"./inputs/1BC8.pdb\": \"C1 C2 C3 C4 C5 C10 C22\",\n",
        "#\"./inputs/4GYT.pdb\": \"A7 A8 A9 A10 A11 A12 A13 B38\"\n",
        "#}\n",
        "!python run.py \\\n",
        "        --pdb_path_multi \"./inputs/pdb_ids.json\" \\\n",
        "        --fixed_residues_multi \"./inputs/fix_residues_multi.json\" \\\n",
        "        --out_folder \"./outputs/fixed_residues_multi\" \\\n",
        "        --seed 111"
      ]
    },
    {
      "cell_type": "markdown",
      "metadata": {
        "id": "sCiPxeA5DLrO"
      },
      "source": [
        "**29 --redesigned_residues_multi**\n",
        "\n",
        "Specify which residues need to be redesigned when using --pdb_path_multi flag."
      ]
    },
    {
      "cell_type": "code",
      "execution_count": null,
      "metadata": {
        "colab": {
          "background_save": true
        },
        "id": "dpRoIsPM6mnj"
      },
      "outputs": [],
      "source": [
        "#{\n",
        "#\"./inputs/1BC8.pdb\": \"C1 C2 C3 C4 C5 C10\",\n",
        "#\"./inputs/4GYT.pdb\": \"A7 A8 A9 A10 A12 A13 B38\"\n",
        "#}\n",
        "!python run.py \\\n",
        "        --pdb_path_multi \"./inputs/pdb_ids.json\" \\\n",
        "        --redesigned_residues_multi \"./inputs/redesigned_residues_multi.json\" \\\n",
        "        --out_folder \"./outputs/redesigned_residues_multi\" \\\n",
        "        --seed 111"
      ]
    },
    {
      "cell_type": "markdown",
      "metadata": {
        "id": "HusqWjbODX11"
      },
      "source": [
        "**30 --omit_AA_per_residue_multi**\n",
        "\n",
        "Specify which residues need to be omitted when using --pdb_path_multi flag."
      ]
    },
    {
      "cell_type": "code",
      "execution_count": null,
      "metadata": {
        "colab": {
          "background_save": true
        },
        "id": "9M7McqAN6mqc"
      },
      "outputs": [],
      "source": [
        "#{\n",
        "#\"./inputs/1BC8.pdb\": {\"C1\":\"ACDEFGHILMNPQRSTVWY\", \"C2\":\"ACDEFGHILMNPQRSTVWY\", \"C3\":\"ACDEFGHILMNPQRSTVWY\"},\n",
        "#\"./inputs/4GYT.pdb\": {\"A7\":\"ACDEFGHILMNPQRSTVWY\", \"A8\":\"ACDEFGHILMNPQRSTVWY\"}\n",
        "#}\n",
        "!python run.py \\\n",
        "        --pdb_path_multi \"./inputs/pdb_ids.json\" \\\n",
        "        --omit_AA_per_residue_multi \"./inputs/omit_AA_per_residue_multi.json\" \\\n",
        "        --out_folder \"./outputs/omit_AA_per_residue_multi\" \\\n",
        "        --seed 111"
      ]
    },
    {
      "cell_type": "markdown",
      "metadata": {
        "id": "CuLyAh9CDpjO"
      },
      "source": [
        "**31 --bias_AA_per_residue_multi**\n",
        "\n",
        "Specify amino acid biases per residue when using --pdb_path_multi flag.\n",
        "\n"
      ]
    },
    {
      "cell_type": "code",
      "execution_count": null,
      "metadata": {
        "colab": {
          "background_save": true
        },
        "id": "jbh--Zj16mtS"
      },
      "outputs": [],
      "source": [
        "#{\n",
        "#\"./inputs/1BC8.pdb\": {\"C1\":{\"A\":3.0, \"P\":-2.0}, \"C2\":{\"W\":10.0, \"G\":-0.43}},\n",
        "#\"./inputs/4GYT.pdb\": {\"A7\":{\"Y\":5.0, \"S\":-2.0}, \"A8\":{\"M\":3.9, \"G\":-0.43}}\n",
        "#}\n",
        "!python run.py \\\n",
        "        --pdb_path_multi \"./inputs/pdb_ids.json\" \\\n",
        "        --bias_AA_per_residue_multi \"./inputs/bias_AA_per_residue_multi.json\" \\\n",
        "        --out_folder \"./outputs/bias_AA_per_residue_multi\" \\\n",
        "        --seed 111"
      ]
    },
    {
      "cell_type": "markdown",
      "metadata": {
        "id": "xYjgLlYlDume"
      },
      "source": [
        "**32 --ligand_mpnn_cutoff_for_score**\n",
        "\n",
        "This sets the cutoff distance in angstroms to select residues that are considered to be close to ligand atoms. This flag only affects the num_ligand_res and ligand_confidence in the output fasta files."
      ]
    },
    {
      "cell_type": "code",
      "execution_count": null,
      "metadata": {
        "colab": {
          "background_save": true
        },
        "id": "fF3yZru16mwJ"
      },
      "outputs": [],
      "source": [
        "!python run.py \\\n",
        "        --model_type \"ligand_mpnn\" \\\n",
        "        --seed 111 \\\n",
        "        --pdb_path \"./inputs/1BC8.pdb\" \\\n",
        "        --ligand_mpnn_cutoff_for_score \"6.0\" \\\n",
        "        --out_folder \"./outputs/ligand_mpnn_cutoff_for_score\""
      ]
    },
    {
      "cell_type": "markdown",
      "metadata": {
        "id": "WvcNWbZXD26e"
      },
      "source": [
        "**33 specifying residues with insertion codes**\n",
        "\n",
        "You can specify residue using chain_id + residue_number + insersion_code; e.g. redesign only residue B82, B82A, B82B, B82C."
      ]
    },
    {
      "cell_type": "code",
      "execution_count": null,
      "metadata": {
        "colab": {
          "background_save": true
        },
        "id": "4w9-gobW6myq"
      },
      "outputs": [],
      "source": [
        "!python run.py \\\n",
        "        --seed 111 \\\n",
        "        --pdb_path \"./inputs/2GFB.pdb\" \\\n",
        "        --out_folder \"./outputs/insertion_code\" \\\n",
        "        --redesigned_residues \"B82 B82A B82B B82C\" \\\n",
        "        --parse_these_chains_only \"B\""
      ]
    },
    {
      "cell_type": "markdown",
      "metadata": {
        "id": "B528H0Z0aLsR"
      },
      "source": [
        "**Last - How to use LigandMPNN script more effectively**"
      ]
    },
    {
      "cell_type": "code",
      "execution_count": null,
      "metadata": {
        "colab": {
          "background_save": true
        },
        "id": "KQJ_nCSsa7Mh",
        "outputId": "a48c7ad6-3b74-485c-f9de-d6553b8bbfb8"
      },
      "outputs": [
        {
          "name": "stdout",
          "output_type": "stream",
          "text": [
            "usage: run.py [-h] [--model_type MODEL_TYPE] [--checkpoint_protein_mpnn CHECKPOINT_PROTEIN_MPNN]\n",
            "              [--checkpoint_ligand_mpnn CHECKPOINT_LIGAND_MPNN]\n",
            "              [--checkpoint_per_residue_label_membrane_mpnn CHECKPOINT_PER_RESIDUE_LABEL_MEMBRANE_MPNN]\n",
            "              [--checkpoint_global_label_membrane_mpnn CHECKPOINT_GLOBAL_LABEL_MEMBRANE_MPNN]\n",
            "              [--checkpoint_soluble_mpnn CHECKPOINT_SOLUBLE_MPNN]\n",
            "              [--fasta_seq_separation FASTA_SEQ_SEPARATION] [--verbose VERBOSE]\n",
            "              [--pdb_path PDB_PATH] [--pdb_path_multi PDB_PATH_MULTI]\n",
            "              [--fixed_residues FIXED_RESIDUES] [--fixed_residues_multi FIXED_RESIDUES_MULTI]\n",
            "              [--redesigned_residues REDESIGNED_RESIDUES]\n",
            "              [--redesigned_residues_multi REDESIGNED_RESIDUES_MULTI] [--bias_AA BIAS_AA]\n",
            "              [--bias_AA_per_residue BIAS_AA_PER_RESIDUE]\n",
            "              [--bias_AA_per_residue_multi BIAS_AA_PER_RESIDUE_MULTI] [--omit_AA OMIT_AA]\n",
            "              [--omit_AA_per_residue OMIT_AA_PER_RESIDUE]\n",
            "              [--omit_AA_per_residue_multi OMIT_AA_PER_RESIDUE_MULTI]\n",
            "              [--symmetry_residues SYMMETRY_RESIDUES] [--symmetry_weights SYMMETRY_WEIGHTS]\n",
            "              [--homo_oligomer HOMO_OLIGOMER] [--out_folder OUT_FOLDER]\n",
            "              [--file_ending FILE_ENDING] [--zero_indexed ZERO_INDEXED] [--seed SEED]\n",
            "              [--batch_size BATCH_SIZE] [--number_of_batches NUMBER_OF_BATCHES]\n",
            "              [--temperature TEMPERATURE] [--save_stats SAVE_STATS]\n",
            "              [--ligand_mpnn_use_atom_context LIGAND_MPNN_USE_ATOM_CONTEXT]\n",
            "              [--ligand_mpnn_cutoff_for_score LIGAND_MPNN_CUTOFF_FOR_SCORE]\n",
            "              [--ligand_mpnn_use_side_chain_context LIGAND_MPNN_USE_SIDE_CHAIN_CONTEXT]\n",
            "              [--chains_to_design CHAINS_TO_DESIGN]\n",
            "              [--parse_these_chains_only PARSE_THESE_CHAINS_ONLY]\n",
            "              [--transmembrane_buried TRANSMEMBRANE_BURIED]\n",
            "              [--transmembrane_interface TRANSMEMBRANE_INTERFACE]\n",
            "              [--global_transmembrane_label GLOBAL_TRANSMEMBRANE_LABEL]\n",
            "\n",
            "options:\n",
            "  -h, --help            show this help message and exit\n",
            "  --model_type MODEL_TYPE\n",
            "                        Choose your model: protein_mpnn, ligand_mpnn,\n",
            "                        per_residue_label_membrane_mpnn, global_label_membrane_mpnn, soluble_mpnn\n",
            "                        (default: protein_mpnn)\n",
            "  --checkpoint_protein_mpnn CHECKPOINT_PROTEIN_MPNN\n",
            "                        Path to model weights. (default: ./model_params/proteinmpnn_v_48_020.pt)\n",
            "  --checkpoint_ligand_mpnn CHECKPOINT_LIGAND_MPNN\n",
            "                        Path to model weights. (default: ./model_params/ligandmpnn_v_32_010_25.pt)\n",
            "  --checkpoint_per_residue_label_membrane_mpnn CHECKPOINT_PER_RESIDUE_LABEL_MEMBRANE_MPNN\n",
            "                        Path to model weights. (default:\n",
            "                        ./model_params/per_residue_label_membrane_mpnn_v_48_020.pt)\n",
            "  --checkpoint_global_label_membrane_mpnn CHECKPOINT_GLOBAL_LABEL_MEMBRANE_MPNN\n",
            "                        Path to model weights. (default:\n",
            "                        ./model_params/global_label_membrane_mpnn_v_48_020.pt)\n",
            "  --checkpoint_soluble_mpnn CHECKPOINT_SOLUBLE_MPNN\n",
            "                        Path to model weights. (default: ./model_params/solublempnn_v_48_020.pt)\n",
            "  --fasta_seq_separation FASTA_SEQ_SEPARATION\n",
            "                        Symbol to use between sequences from different chains (default: :)\n",
            "  --verbose VERBOSE     Print stuff (default: 1)\n",
            "  --pdb_path PDB_PATH   Path to the input PDB. (default: )\n",
            "  --pdb_path_multi PDB_PATH_MULTI\n",
            "                        Path to json listing PDB paths. {'/path/to/pdb': ''} - only keys will be\n",
            "                        used. (default: )\n",
            "  --fixed_residues FIXED_RESIDUES\n",
            "                        Provide fixed residues, A12 A13 A14 B2 B25 (default: )\n",
            "  --fixed_residues_multi FIXED_RESIDUES_MULTI\n",
            "                        Path to json mapping of fixed residues for each pdb i.e., {'/path/to/pdb':\n",
            "                        'A12 A13 A14 B2 B25'} (default: )\n",
            "  --redesigned_residues REDESIGNED_RESIDUES\n",
            "                        Provide to be redesigned residues, everything else will be fixed, A12 A13\n",
            "                        A14 B2 B25 (default: )\n",
            "  --redesigned_residues_multi REDESIGNED_RESIDUES_MULTI\n",
            "                        Path to json mapping of redesigned residues for each pdb i.e.,\n",
            "                        {'/path/to/pdb': 'A12 A13 A14 B2 B25'} (default: )\n",
            "  --bias_AA BIAS_AA     Bias generation of amino acids, e.g. 'A:-1.024,P:2.34,C:-12.34' (default:\n",
            "                        )\n",
            "  --bias_AA_per_residue BIAS_AA_PER_RESIDUE\n",
            "                        Path to json mapping of bias {'A12': {'G': -0.3, 'C': -2.0, 'H': 0.8},\n",
            "                        'A13': {'G': -1.3}} (default: )\n",
            "  --bias_AA_per_residue_multi BIAS_AA_PER_RESIDUE_MULTI\n",
            "                        Path to json mapping of bias {'pdb_path': {'A12': {'G': -0.3, 'C': -2.0,\n",
            "                        'H': 0.8}, 'A13': {'G': -1.3}}} (default: )\n",
            "  --omit_AA OMIT_AA     Bias generation of amino acids, e.g. 'ACG' (default: )\n",
            "  --omit_AA_per_residue OMIT_AA_PER_RESIDUE\n",
            "                        Path to json mapping of bias {'A12': 'APQ', 'A13': 'QST'} (default: )\n",
            "  --omit_AA_per_residue_multi OMIT_AA_PER_RESIDUE_MULTI\n",
            "                        Path to json mapping of bias {'pdb_path': {'A12': 'QSPC', 'A13': 'AGE'}}\n",
            "                        (default: )\n",
            "  --symmetry_residues SYMMETRY_RESIDUES\n",
            "                        Add list of lists for which residues need to be symmetric, e.g.\n",
            "                        'A12,A13,A14|C2,C3|A5,B6' (default: )\n",
            "  --symmetry_weights SYMMETRY_WEIGHTS\n",
            "                        Add weights that match symmetry_residues, e.g.\n",
            "                        '1.01,1.0,1.0|-1.0,2.0|2.0,2.3' (default: )\n",
            "  --homo_oligomer HOMO_OLIGOMER\n",
            "                        Setting this to 1 will automatically set --symmetry_residues and\n",
            "                        --symmetry_weights to do homooligomer design with equal weighting.\n",
            "                        (default: 0)\n",
            "  --out_folder OUT_FOLDER\n",
            "                        Path to a folder to output sequences, e.g. /home/out/ (default: None)\n",
            "  --file_ending FILE_ENDING\n",
            "                        adding_string_to_the_end (default: )\n",
            "  --zero_indexed ZERO_INDEXED\n",
            "                        1 - to start output PDB numbering with 0 (default: 0)\n",
            "  --seed SEED           Set seed for torch, numpy, and python random. (default: 0)\n",
            "  --batch_size BATCH_SIZE\n",
            "                        Number of sequence to generate per one pass. (default: 1)\n",
            "  --number_of_batches NUMBER_OF_BATCHES\n",
            "                        Number of times to design sequence using a chosen batch size. (default: 1)\n",
            "  --temperature TEMPERATURE\n",
            "                        Temperature to sample sequences. (default: 0.1)\n",
            "  --save_stats SAVE_STATS\n",
            "                        Save output statistics (default: 0)\n",
            "  --ligand_mpnn_use_atom_context LIGAND_MPNN_USE_ATOM_CONTEXT\n",
            "                        1 - use atom context, 0 - do not use atom context. (default: 1)\n",
            "  --ligand_mpnn_cutoff_for_score LIGAND_MPNN_CUTOFF_FOR_SCORE\n",
            "                        Cutoff in angstroms between protein and context atoms to select residues\n",
            "                        for reporting score. (default: 8.0)\n",
            "  --ligand_mpnn_use_side_chain_context LIGAND_MPNN_USE_SIDE_CHAIN_CONTEXT\n",
            "                        Flag to use side chain atoms as ligand context for the fixed residues\n",
            "                        (default: 0)\n",
            "  --chains_to_design CHAINS_TO_DESIGN\n",
            "                        Specify which chains to redesign, all others will be kept fixed. (default:\n",
            "                        None)\n",
            "  --parse_these_chains_only PARSE_THESE_CHAINS_ONLY\n",
            "                        Provide chains letters for parsing backbones, 'ABCF' (default: )\n",
            "  --transmembrane_buried TRANSMEMBRANE_BURIED\n",
            "                        Provide buried residues when using\n",
            "                        checkpoint_per_residue_label_membrane_mpnn model, A12 A13 A14 B2 B25\n",
            "                        (default: )\n",
            "  --transmembrane_interface TRANSMEMBRANE_INTERFACE\n",
            "                        Provide interface residues when using\n",
            "                        checkpoint_per_residue_label_membrane_mpnn model, A12 A13 A14 B2 B25\n",
            "                        (default: )\n",
            "  --global_transmembrane_label GLOBAL_TRANSMEMBRANE_LABEL\n",
            "                        Provide global label for global_label_membrane_mpnn model. 1 -\n",
            "                        transmembrane, 0 - soluble (default: 0)\n"
          ]
        }
      ],
      "source": [
        "!python run.py -h"
      ]
    },
    {
      "cell_type": "markdown",
      "metadata": {
        "id": "s7LhNyQjZx0k"
      },
      "source": []
    },
    {
      "cell_type": "markdown",
      "metadata": {
        "id": "LtCtBZ0mECr1"
      },
      "source": [
        "If you use the [LigandMPNN](https://github.com/dauparas/LigandMPNN?tab=readme-ov-file#31---bias_aa_per_residue_multi) cite:\n",
        "[LigandMPNN(preprint)](https://www.biorxiv.org/content/10.1101/2023.12.22.573103v1)\n",
        "\n",
        "@article{dauparas2023atomic,\n",
        "  title={Atomic context-conditioned protein sequence design using LigandMPNN},\n",
        "  author={Dauparas, Justas and Lee, Gyu Rie and Pecoraro, Robert and An, Linna and Anishchenko, Ivan and Glasscock, Cameron and Baker, David},\n",
        "  journal={Biorxiv},\n",
        "  pages={2023--12},\n",
        "  year={2023},\n",
        "  publisher={Cold Spring Harbor Laboratory}\n",
        "}\n",
        "\n",
        "@article{dauparas2022robust,\n",
        "  title={Robust deep learning--based protein sequence design using ProteinMPNN},\n",
        "  author={Dauparas, Justas and Anishchenko, Ivan and Bennett, Nathaniel and Bai, Hua and Ragotte, Robert J and Milles, Lukas F and Wicky, Basile IM and Courbet, Alexis and de Haas, Rob J and Bethel, Neville and others},\n",
        "  journal={Science},\n",
        "  volume={378},\n",
        "  number={6615},  \n",
        "  pages={49--56},\n",
        "  year={2022},\n",
        "  publisher={American Association for the Advancement of Science}\n",
        "} *italicized text*\n"
      ]
    }
  ],
  "metadata": {
    "colab": {
      "provenance": [],
      "include_colab_link": true
    },
    "kernelspec": {
      "display_name": "Python 3",
      "name": "python3"
    },
    "language_info": {
      "name": "python"
    }
  },
  "nbformat": 4,
  "nbformat_minor": 0
}